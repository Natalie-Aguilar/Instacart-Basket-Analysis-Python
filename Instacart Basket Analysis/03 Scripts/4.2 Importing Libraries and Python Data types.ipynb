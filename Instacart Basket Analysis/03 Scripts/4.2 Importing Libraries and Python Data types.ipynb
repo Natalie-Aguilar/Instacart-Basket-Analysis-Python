{
 "cells": [
  {
   "cell_type": "markdown",
   "id": "7b8be925-533a-427c-8135-feacfb72291b",
   "metadata": {},
   "source": [
    "# 01. Importing libraries"
   ]
  },
  {
   "cell_type": "code",
   "execution_count": null,
   "id": "f1f51204-cbd9-47d0-90a3-5d4eeb81d435",
   "metadata": {},
   "outputs": [],
   "source": [
    "# Import libraries\n",
    "import pandas as pd\n",
    "import numpy as np\n",
    "import os"
   ]
  },
  {
   "cell_type": "markdown",
   "id": "7b9311ca-d9a5-4907-bc41-fd7fd5b5e9f7",
   "metadata": {},
   "source": [
    "# 02. Data Types"
   ]
  },
  {
   "cell_type": "code",
   "execution_count": 2,
   "id": "ede6b97a-4549-4faf-a668-713a260e49fe",
   "metadata": {},
   "outputs": [],
   "source": [
    "#code 3 different ways of reaching a result of 100 by adding or subtracting numeric values. \n",
    "x = 150\n",
    "y = 50"
   ]
  },
  {
   "cell_type": "code",
   "execution_count": 10,
   "id": "2c62944e-7679-427b-bab6-a2635576eb45",
   "metadata": {
    "scrolled": true
   },
   "outputs": [
    {
     "data": {
      "text/plain": [
       "-26"
      ]
     },
     "execution_count": 10,
     "metadata": {},
     "output_type": "execute_result"
    }
   ],
   "source": []
  }
 ],
 "metadata": {
  "kernelspec": {
   "display_name": "Python [conda env:base] *",
   "language": "python",
   "name": "conda-base-py"
  },
  "language_info": {
   "codemirror_mode": {
    "name": "ipython",
    "version": 3
   },
   "file_extension": ".py",
   "mimetype": "text/x-python",
   "name": "python",
   "nbconvert_exporter": "python",
   "pygments_lexer": "ipython3",
   "version": "3.12.7"
  }
 },
 "nbformat": 4,
 "nbformat_minor": 5
}
